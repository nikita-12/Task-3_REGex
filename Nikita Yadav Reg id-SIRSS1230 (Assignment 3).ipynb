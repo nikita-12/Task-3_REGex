{
 "cells": [
  {
   "cell_type": "markdown",
   "id": "1f1779ec",
   "metadata": {},
   "source": [
    "## Assignment 3"
   ]
  },
  {
   "cell_type": "markdown",
   "id": "9dedb2de",
   "metadata": {},
   "source": [
    "Question 1"
   ]
  },
  {
   "cell_type": "code",
   "execution_count": 1,
   "id": "9d9302f4",
   "metadata": {},
   "outputs": [
    {
     "name": "stdout",
     "output_type": "stream",
     "text": [
      "Enter a Number : 6\n",
      "0 1 1 2 3 5 "
     ]
    }
   ],
   "source": [
    "def fib(num) :\n",
    "    if num <= 1 :\n",
    "        return num\n",
    "    else : \n",
    "        return (fib(num-1) + fib(num-2))\n",
    "    \n",
    "n = int(input(\"Enter a Number : \"))\n",
    "\n",
    "if n < 0 :\n",
    "    print(\"Please Enter Positive Number \")\n",
    "else :\n",
    "    for i in range(n) :\n",
    "        print(fib(i), end = \" \")"
   ]
  },
  {
   "cell_type": "markdown",
   "id": "45613e2d",
   "metadata": {},
   "source": [
    "Question 2"
   ]
  },
  {
   "cell_type": "code",
   "execution_count": 2,
   "id": "e807c45e",
   "metadata": {},
   "outputs": [
    {
     "name": "stdout",
     "output_type": "stream",
     "text": [
      "Enter first Number : 24\n",
      "Enter second Number : 18\n",
      "GCD of (24,18) =  6\n"
     ]
    }
   ],
   "source": [
    "def gcd(n1, n2) :\n",
    "    if n2 == 0 :\n",
    "        return n1\n",
    "    else :\n",
    "        return gcd(n2, n1 % n2)\n",
    "        \n",
    "num1 = int(input(\"Enter first Number : \"))\n",
    "num2 = int(input(\"Enter second Number : \"))\n",
    "\n",
    "print(f\"GCD of ({num1},{num2}) = \", gcd(num1, num2))"
   ]
  },
  {
   "cell_type": "markdown",
   "id": "1d279638",
   "metadata": {},
   "source": [
    "Question 3"
   ]
  },
  {
   "cell_type": "code",
   "execution_count": 3,
   "id": "b5fcde44",
   "metadata": {},
   "outputs": [
    {
     "name": "stdout",
     "output_type": "stream",
     "text": [
      "Enter first Number : 15\n",
      "Enter second Number : 25\n",
      "LCM of (15,25) =  75.0\n"
     ]
    }
   ],
   "source": [
    "def gcd(n1, n2) :\n",
    "    if n2 == 0 :\n",
    "        return n1\n",
    "    else :\n",
    "        return gcd(n2, n1 % n2)\n",
    "    \n",
    "def lcm(n1, n2) :\n",
    "    return (n1 / gcd(n1,n2)) * n2\n",
    "\n",
    "num1 = int(input(\"Enter first Number : \"))\n",
    "num2 = int(input(\"Enter second Number : \"))\n",
    "\n",
    "print(f\"LCM of ({num1},{num2}) = \", lcm(num1, num2))"
   ]
  }
 ],
 "metadata": {
  "kernelspec": {
   "display_name": "Python 3",
   "language": "python",
   "name": "python3"
  },
  "language_info": {
   "codemirror_mode": {
    "name": "ipython",
    "version": 3
   },
   "file_extension": ".py",
   "mimetype": "text/x-python",
   "name": "python",
   "nbconvert_exporter": "python",
   "pygments_lexer": "ipython3",
   "version": "3.7.3"
  }
 },
 "nbformat": 4,
 "nbformat_minor": 5
}
